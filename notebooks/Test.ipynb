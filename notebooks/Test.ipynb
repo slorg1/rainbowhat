{
 "cells": [
  {
   "cell_type": "code",
   "execution_count": 1,
   "metadata": {},
   "outputs": [],
   "source": [
    "import rainbowhat as rh\n",
    "from enum import Enum\n",
    "import subprocess\n",
    "import re\n",
    "import time\n",
    "import itertools"
   ]
  },
  {
   "cell_type": "code",
   "execution_count": 2,
   "metadata": {},
   "outputs": [],
   "source": [
    "class RGBColors(Enum):\n",
    "   RED = (50, 0, 0)\n",
    "   YELLOW = (50, 50, 0)\n",
    "   PINK = (50, 10, 12)\n",
    "   GREEN = (0, 50, 0)\n",
    "   PURPLE = (50, 0, 50)\n",
    "   ORANGE = (50, 22, 0)\n",
    "   BLUE = (0, 0, 50)"
   ]
  },
  {
   "cell_type": "code",
   "execution_count": 3,
   "metadata": {},
   "outputs": [],
   "source": [
    "def run_rainbow(it):\n",
    "    for pixel, color in it:\n",
    "        rh.rainbow.clear()\n",
    "        rh.rainbow.set_pixel(pixel, *(color.value))\n",
    "        rh.rainbow.show()\n",
    "        time.sleep(0.1)\n"
   ]
  },
  {
   "cell_type": "code",
   "execution_count": 4,
   "metadata": {},
   "outputs": [],
   "source": [
    "def open_rainbow():\n",
    "    colours = list(RGBColors)\n",
    "    for pixel in itertools.chain(reversed(range(4)),range(4)):\n",
    "        rh.rainbow.clear()\n",
    "        rh.rainbow.set_pixel(pixel, *(colours[pixel].value))\n",
    "        rh.rainbow.set_pixel(-pixel+6, *(colours[-pixel+6].value))\n",
    "        rh.rainbow.show()\n",
    "        time.sleep(0.4)\n",
    "    \n",
    "    rh.rainbow.clear()\n",
    "    rh.rainbow.show()\n"
   ]
  },
  {
   "cell_type": "code",
   "execution_count": 5,
   "metadata": {},
   "outputs": [],
   "source": [
    "def right_to_left():\n",
    "    run_rainbow(zip(range(7), RGBColors))"
   ]
  },
  {
   "cell_type": "code",
   "execution_count": 6,
   "metadata": {},
   "outputs": [],
   "source": [
    "def left_to_right():\n",
    "    run_rainbow(reversed(tuple(zip(range(7), RGBColors))))"
   ]
  },
  {
   "cell_type": "code",
   "execution_count": 7,
   "metadata": {},
   "outputs": [],
   "source": [
    "\n",
    "rh.rainbow.clear()\n",
    "rh.display.clear()\n",
    "\n",
    "for idx in range(1, 11):\n",
    "    rh.display.print_str(f'{idx}')\n",
    "    rh.display.show()\n",
    "\n",
    "    if (idx % 2) == 1:\n",
    "        left_to_right()\n",
    "    else:\n",
    "        right_to_left()\n",
    "    \n",
    "\n",
    "rh.rainbow.clear()\n",
    "rh.rainbow.show()\n",
    "rh.display.print_str('DONE')\n",
    "rh.display.show()"
   ]
  },
  {
   "cell_type": "code",
   "execution_count": 8,
   "metadata": {},
   "outputs": [],
   "source": [
    "TEMP_EXTRACTOR = re.compile(r\"[^=]+=(\\d+(?:\\.\\d+))'C\\n$\")"
   ]
  },
  {
   "cell_type": "code",
   "execution_count": 9,
   "metadata": {},
   "outputs": [],
   "source": [
    "def get_temp(real_temp):\n",
    "    cpu_temp_str = subprocess.check_output(\"vcgencmd measure_temp\", shell=True).decode(\"utf-8\")\n",
    "    temp = rh.weather.temperature()\n",
    "    cpu_temp = float(TEMP_EXTRACTOR.match(cpu_temp_str)[1])\n",
    "#     print(temp, cpu_temp)\n",
    "    FACTOR = -(cpu_temp - temp)/(real_temp - temp)\n",
    "    print('FACTOR', FACTOR)\n",
    "    FACTOR = 0.6976542896954581\n",
    "    \n",
    "    return temp - ((cpu_temp - temp)/FACTOR)"
   ]
  },
  {
   "cell_type": "code",
   "execution_count": 10,
   "metadata": {
    "scrolled": true
   },
   "outputs": [],
   "source": [
    "@rh.touch.A.press()\n",
    "def touch_a(channel):\n",
    "    rh.lights.rgb(1, 0, 0)\n",
    "    rh.display.clear()\n",
    "    rh.display.print_str(\"TEMP\")\n",
    "    rh.display.show()\n",
    "    time.sleep(1)\n",
    "    rh.display.print_float(get_temp(20.5))\n",
    "    rh.display.show()\n",
    "    open_rainbow()\n",
    "    \n",
    "def release(channel):\n",
    "    rh.display.clear()\n",
    "    rh.display.show()\n",
    "    rh.rainbow.clear()\n",
    "    rh.rainbow.show()\n",
    "    rh.lights.rgb(0, 0, 0)"
   ]
  },
  {
   "cell_type": "code",
   "execution_count": 11,
   "metadata": {},
   "outputs": [],
   "source": [
    "@rh.touch.B.press()\n",
    "def touch_b(channel):\n",
    "    rh.lights.rgb(0, 1, 0)\n",
    "    rh.display.clear()\n",
    "    rh.display.print_str(\" B  \")\n",
    "    rh.display.show()\n",
    "    time.sleep(0.5)\n",
    "    right_to_left()\n"
   ]
  },
  {
   "cell_type": "code",
   "execution_count": 12,
   "metadata": {},
   "outputs": [],
   "source": [
    "@rh.touch.C.press()\n",
    "def touch_c(channel):\n",
    "    rh.lights.rgb(0, 0, 1)\n",
    "    rh.display.clear()\n",
    "    rh.display.print_str(\"   C\")\n",
    "    rh.display.show()\n",
    "    time.sleep(0.5)\n",
    "    left_to_right()\n"
   ]
  },
  {
   "cell_type": "code",
   "execution_count": 13,
   "metadata": {},
   "outputs": [],
   "source": [
    "rh.touch.A.release()(release)\n",
    "rh.touch.B.release()(release)\n",
    "rh.touch.C.release()(release)"
   ]
  }
 ],
 "metadata": {
  "kernelspec": {
   "display_name": "Python 3",
   "language": "python",
   "name": "python3"
  },
  "language_info": {
   "codemirror_mode": {
    "name": "ipython",
    "version": 3
   },
   "file_extension": ".py",
   "mimetype": "text/x-python",
   "name": "python",
   "nbconvert_exporter": "python",
   "pygments_lexer": "ipython3",
   "version": "3.7.3"
  }
 },
 "nbformat": 4,
 "nbformat_minor": 2
}
